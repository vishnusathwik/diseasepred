{
 "cells": [
  {
   "cell_type": "code",
   "execution_count": 1,
   "id": "ba182ad3",
   "metadata": {},
   "outputs": [],
   "source": [
    "import pandas as pd\n",
    "import numpy as np\n",
    "import matplotlib.pyplot as plt\n",
    "from sklearn.model_selection import train_test_split\n",
    "from sklearn.svm import SVC\n",
    "from sklearn.metrics import f1_score, accuracy_score, confusion_matrix\n",
    "import seaborn as sns\n",
    "from tkinter import *\n",
    "from tkinter import messagebox\n",
    "import sys \n",
    "import urllib\n",
    "import urllib.request"
   ]
  },
  {
   "cell_type": "code",
   "execution_count": 6,
   "id": "2a02c3b6",
   "metadata": {},
   "outputs": [],
   "source": [
    "df = pd.read_csv('Training.csv')"
   ]
  },
  {
   "cell_type": "code",
   "execution_count": 7,
   "id": "ebfbe6e9",
   "metadata": {},
   "outputs": [
    {
     "data": {
      "text/html": [
       "<div>\n",
       "<style scoped>\n",
       "    .dataframe tbody tr th:only-of-type {\n",
       "        vertical-align: middle;\n",
       "    }\n",
       "\n",
       "    .dataframe tbody tr th {\n",
       "        vertical-align: top;\n",
       "    }\n",
       "\n",
       "    .dataframe thead th {\n",
       "        text-align: right;\n",
       "    }\n",
       "</style>\n",
       "<table border=\"1\" class=\"dataframe\">\n",
       "  <thead>\n",
       "    <tr style=\"text-align: right;\">\n",
       "      <th></th>\n",
       "      <th>itching</th>\n",
       "      <th>skin_rash</th>\n",
       "      <th>nodal_skin_eruptions</th>\n",
       "      <th>continuous_sneezing</th>\n",
       "      <th>shivering</th>\n",
       "      <th>chills</th>\n",
       "      <th>joint_pain</th>\n",
       "      <th>stomach_pain</th>\n",
       "      <th>acidity</th>\n",
       "      <th>ulcers_on_tongue</th>\n",
       "      <th>...</th>\n",
       "      <th>blackheads</th>\n",
       "      <th>scurring</th>\n",
       "      <th>skin_peeling</th>\n",
       "      <th>silver_like_dusting</th>\n",
       "      <th>small_dents_in_nails</th>\n",
       "      <th>inflammatory_nails</th>\n",
       "      <th>blister</th>\n",
       "      <th>red_sore_around_nose</th>\n",
       "      <th>yellow_crust_ooze</th>\n",
       "      <th>prognosis</th>\n",
       "    </tr>\n",
       "  </thead>\n",
       "  <tbody>\n",
       "    <tr>\n",
       "      <th>0</th>\n",
       "      <td>1</td>\n",
       "      <td>1</td>\n",
       "      <td>1</td>\n",
       "      <td>0</td>\n",
       "      <td>0</td>\n",
       "      <td>0</td>\n",
       "      <td>0</td>\n",
       "      <td>0</td>\n",
       "      <td>0</td>\n",
       "      <td>0</td>\n",
       "      <td>...</td>\n",
       "      <td>0</td>\n",
       "      <td>0</td>\n",
       "      <td>0</td>\n",
       "      <td>0</td>\n",
       "      <td>0</td>\n",
       "      <td>0</td>\n",
       "      <td>0</td>\n",
       "      <td>0</td>\n",
       "      <td>0</td>\n",
       "      <td>Fungal infection</td>\n",
       "    </tr>\n",
       "    <tr>\n",
       "      <th>1</th>\n",
       "      <td>0</td>\n",
       "      <td>1</td>\n",
       "      <td>1</td>\n",
       "      <td>0</td>\n",
       "      <td>0</td>\n",
       "      <td>0</td>\n",
       "      <td>0</td>\n",
       "      <td>0</td>\n",
       "      <td>0</td>\n",
       "      <td>0</td>\n",
       "      <td>...</td>\n",
       "      <td>0</td>\n",
       "      <td>0</td>\n",
       "      <td>0</td>\n",
       "      <td>0</td>\n",
       "      <td>0</td>\n",
       "      <td>0</td>\n",
       "      <td>0</td>\n",
       "      <td>0</td>\n",
       "      <td>0</td>\n",
       "      <td>Fungal infection</td>\n",
       "    </tr>\n",
       "    <tr>\n",
       "      <th>2</th>\n",
       "      <td>1</td>\n",
       "      <td>0</td>\n",
       "      <td>1</td>\n",
       "      <td>0</td>\n",
       "      <td>0</td>\n",
       "      <td>0</td>\n",
       "      <td>0</td>\n",
       "      <td>0</td>\n",
       "      <td>0</td>\n",
       "      <td>0</td>\n",
       "      <td>...</td>\n",
       "      <td>0</td>\n",
       "      <td>0</td>\n",
       "      <td>0</td>\n",
       "      <td>0</td>\n",
       "      <td>0</td>\n",
       "      <td>0</td>\n",
       "      <td>0</td>\n",
       "      <td>0</td>\n",
       "      <td>0</td>\n",
       "      <td>Fungal infection</td>\n",
       "    </tr>\n",
       "    <tr>\n",
       "      <th>3</th>\n",
       "      <td>1</td>\n",
       "      <td>1</td>\n",
       "      <td>0</td>\n",
       "      <td>0</td>\n",
       "      <td>0</td>\n",
       "      <td>0</td>\n",
       "      <td>0</td>\n",
       "      <td>0</td>\n",
       "      <td>0</td>\n",
       "      <td>0</td>\n",
       "      <td>...</td>\n",
       "      <td>0</td>\n",
       "      <td>0</td>\n",
       "      <td>0</td>\n",
       "      <td>0</td>\n",
       "      <td>0</td>\n",
       "      <td>0</td>\n",
       "      <td>0</td>\n",
       "      <td>0</td>\n",
       "      <td>0</td>\n",
       "      <td>Fungal infection</td>\n",
       "    </tr>\n",
       "    <tr>\n",
       "      <th>4</th>\n",
       "      <td>1</td>\n",
       "      <td>1</td>\n",
       "      <td>1</td>\n",
       "      <td>0</td>\n",
       "      <td>0</td>\n",
       "      <td>0</td>\n",
       "      <td>0</td>\n",
       "      <td>0</td>\n",
       "      <td>0</td>\n",
       "      <td>0</td>\n",
       "      <td>...</td>\n",
       "      <td>0</td>\n",
       "      <td>0</td>\n",
       "      <td>0</td>\n",
       "      <td>0</td>\n",
       "      <td>0</td>\n",
       "      <td>0</td>\n",
       "      <td>0</td>\n",
       "      <td>0</td>\n",
       "      <td>0</td>\n",
       "      <td>Fungal infection</td>\n",
       "    </tr>\n",
       "  </tbody>\n",
       "</table>\n",
       "<p>5 rows × 133 columns</p>\n",
       "</div>"
      ],
      "text/plain": [
       "   itching  skin_rash  nodal_skin_eruptions  continuous_sneezing  shivering  \\\n",
       "0        1          1                     1                    0          0   \n",
       "1        0          1                     1                    0          0   \n",
       "2        1          0                     1                    0          0   \n",
       "3        1          1                     0                    0          0   \n",
       "4        1          1                     1                    0          0   \n",
       "\n",
       "   chills  joint_pain  stomach_pain  acidity  ulcers_on_tongue  ...  \\\n",
       "0       0           0             0        0                 0  ...   \n",
       "1       0           0             0        0                 0  ...   \n",
       "2       0           0             0        0                 0  ...   \n",
       "3       0           0             0        0                 0  ...   \n",
       "4       0           0             0        0                 0  ...   \n",
       "\n",
       "   blackheads  scurring  skin_peeling  silver_like_dusting  \\\n",
       "0           0         0             0                    0   \n",
       "1           0         0             0                    0   \n",
       "2           0         0             0                    0   \n",
       "3           0         0             0                    0   \n",
       "4           0         0             0                    0   \n",
       "\n",
       "   small_dents_in_nails  inflammatory_nails  blister  red_sore_around_nose  \\\n",
       "0                     0                   0        0                     0   \n",
       "1                     0                   0        0                     0   \n",
       "2                     0                   0        0                     0   \n",
       "3                     0                   0        0                     0   \n",
       "4                     0                   0        0                     0   \n",
       "\n",
       "   yellow_crust_ooze         prognosis  \n",
       "0                  0  Fungal infection  \n",
       "1                  0  Fungal infection  \n",
       "2                  0  Fungal infection  \n",
       "3                  0  Fungal infection  \n",
       "4                  0  Fungal infection  \n",
       "\n",
       "[5 rows x 133 columns]"
      ]
     },
     "execution_count": 7,
     "metadata": {},
     "output_type": "execute_result"
    }
   ],
   "source": [
    "df.head()\n"
   ]
  },
  {
   "cell_type": "code",
   "execution_count": 8,
   "id": "13a21593",
   "metadata": {},
   "outputs": [
    {
     "data": {
      "text/plain": [
       "(4920, 133)"
      ]
     },
     "execution_count": 8,
     "metadata": {},
     "output_type": "execute_result"
    }
   ],
   "source": [
    "df.shape\n"
   ]
  },
  {
   "cell_type": "code",
   "execution_count": 9,
   "id": "f4a0b285",
   "metadata": {},
   "outputs": [
    {
     "data": {
      "text/plain": [
       "itching                 0\n",
       "spinning_movements      0\n",
       "altered_sensorium       0\n",
       "muscle_pain             0\n",
       "irritability            0\n",
       "                       ..\n",
       "abdominal_pain          0\n",
       "constipation            0\n",
       "back_pain               0\n",
       "pain_behind_the_eyes    0\n",
       "prognosis               0\n",
       "Length: 133, dtype: int64"
      ]
     },
     "execution_count": 9,
     "metadata": {},
     "output_type": "execute_result"
    }
   ],
   "source": [
    "df.isnull().sum().sort_values(ascending=False)\n"
   ]
  },
  {
   "cell_type": "code",
   "execution_count": 10,
   "id": "78ce7ff1",
   "metadata": {},
   "outputs": [
    {
     "data": {
      "text/plain": [
       "Index(['itching', 'skin_rash', 'nodal_skin_eruptions', 'continuous_sneezing',\n",
       "       'shivering', 'chills', 'joint_pain', 'stomach_pain', 'acidity',\n",
       "       'ulcers_on_tongue',\n",
       "       ...\n",
       "       'blackheads', 'scurring', 'skin_peeling', 'silver_like_dusting',\n",
       "       'small_dents_in_nails', 'inflammatory_nails', 'blister',\n",
       "       'red_sore_around_nose', 'yellow_crust_ooze', 'prognosis'],\n",
       "      dtype='object', length=133)"
      ]
     },
     "execution_count": 10,
     "metadata": {},
     "output_type": "execute_result"
    }
   ],
   "source": [
    "df.columns\n"
   ]
  },
  {
   "cell_type": "code",
   "execution_count": 11,
   "id": "e284ccc4",
   "metadata": {},
   "outputs": [
    {
     "data": {
      "text/plain": [
       "Fungal infection                           0.02439\n",
       "Hepatitis C                                0.02439\n",
       "Hepatitis E                                0.02439\n",
       "Alcoholic hepatitis                        0.02439\n",
       "Tuberculosis                               0.02439\n",
       "Common Cold                                0.02439\n",
       "Pneumonia                                  0.02439\n",
       "Dimorphic hemmorhoids(piles)               0.02439\n",
       "Heart attack                               0.02439\n",
       "Varicose veins                             0.02439\n",
       "Hypothyroidism                             0.02439\n",
       "Hyperthyroidism                            0.02439\n",
       "Hypoglycemia                               0.02439\n",
       "Osteoarthristis                            0.02439\n",
       "Arthritis                                  0.02439\n",
       "(vertigo) Paroymsal  Positional Vertigo    0.02439\n",
       "Acne                                       0.02439\n",
       "Urinary tract infection                    0.02439\n",
       "Psoriasis                                  0.02439\n",
       "Hepatitis D                                0.02439\n",
       "Hepatitis B                                0.02439\n",
       "Allergy                                    0.02439\n",
       "hepatitis A                                0.02439\n",
       "GERD                                       0.02439\n",
       "Chronic cholestasis                        0.02439\n",
       "Drug Reaction                              0.02439\n",
       "Peptic ulcer diseae                        0.02439\n",
       "AIDS                                       0.02439\n",
       "Diabetes                                   0.02439\n",
       "Gastroenteritis                            0.02439\n",
       "Bronchial Asthma                           0.02439\n",
       "Hypertension                               0.02439\n",
       "Migraine                                   0.02439\n",
       "Cervical spondylosis                       0.02439\n",
       "Paralysis (brain hemorrhage)               0.02439\n",
       "Jaundice                                   0.02439\n",
       "Malaria                                    0.02439\n",
       "Chicken pox                                0.02439\n",
       "Dengue                                     0.02439\n",
       "Typhoid                                    0.02439\n",
       "Impetigo                                   0.02439\n",
       "Name: prognosis, dtype: float64"
      ]
     },
     "execution_count": 11,
     "metadata": {},
     "output_type": "execute_result"
    }
   ],
   "source": [
    "df['prognosis'].value_counts(normalize = True)\n"
   ]
  },
  {
   "cell_type": "code",
   "execution_count": 12,
   "id": "1fc14c24",
   "metadata": {},
   "outputs": [
    {
     "data": {
      "text/plain": [
       "array([dtype('int64'), dtype('O')], dtype=object)"
      ]
     },
     "execution_count": 12,
     "metadata": {},
     "output_type": "execute_result"
    }
   ],
   "source": [
    "df.dtypes.unique()\n"
   ]
  },
  {
   "cell_type": "code",
   "execution_count": 13,
   "id": "4b3b6a80",
   "metadata": {},
   "outputs": [],
   "source": [
    "from sklearn.model_selection import train_test_split\n"
   ]
  },
  {
   "cell_type": "code",
   "execution_count": 15,
   "id": "ce2be08c",
   "metadata": {},
   "outputs": [],
   "source": [
    "x = df.drop(['prognosis'],axis =1)\n",
    "y = df['prognosis']\n"
   ]
  },
  {
   "cell_type": "code",
   "execution_count": 16,
   "id": "0dad82a1",
   "metadata": {},
   "outputs": [],
   "source": [
    "x_train, x_test, y_train, y_test = train_test_split(x, y, test_size=0.33, random_state=42)\n"
   ]
  },
  {
   "cell_type": "code",
   "execution_count": 17,
   "id": "0d95aa94",
   "metadata": {},
   "outputs": [],
   "source": [
    "from sklearn.naive_bayes import MultinomialNB\n"
   ]
  },
  {
   "cell_type": "code",
   "execution_count": 18,
   "id": "e413dbbd",
   "metadata": {},
   "outputs": [],
   "source": [
    "mnb = MultinomialNB()\n",
    "mnb = mnb.fit(x_train, y_train)\n"
   ]
  },
  {
   "cell_type": "code",
   "execution_count": 21,
   "id": "9b305e6a",
   "metadata": {},
   "outputs": [
    {
     "data": {
      "text/plain": [
       "1.0"
      ]
     },
     "execution_count": 21,
     "metadata": {},
     "output_type": "execute_result"
    }
   ],
   "source": [
    "from sklearn.metrics import accuracy_score\n",
    "y_pred = mnb.predict(x_test)\n",
    "accuracy_score(y_pred,y_test)\n"
   ]
  },
  {
   "cell_type": "code",
   "execution_count": 22,
   "id": "b4bd40b0",
   "metadata": {},
   "outputs": [],
   "source": [
    "real_diseases = y_test.values\n"
   ]
  },
  {
   "cell_type": "code",
   "execution_count": 23,
   "id": "0e831ac4",
   "metadata": {},
   "outputs": [],
   "source": [
    "from sklearn.model_selection import KFold\n",
    "def evaluate(train_data,kmax,algo):\n",
    "    test_scores = {}\n",
    "    train_scores = {}\n",
    "    for i in range(2,kmax,2):\n",
    "        kf = KFold(n_splits = i)\n",
    "        sum_train = 0\n",
    "        sum_test = 0\n",
    "        data = df\n",
    "        for train,test in kf.split(data):\n",
    "            train_data = data.iloc[train,:]\n",
    "            test_data = data.iloc[test,:]\n",
    "            x_train = train_data.drop([\"prognosis\"],axis=1)\n",
    "            y_train = train_data['prognosis']\n",
    "            x_test = test_data.drop([\"prognosis\"],axis=1)\n",
    "            y_test = test_data[\"prognosis\"]\n",
    "            algo_model = algo.fit(x_train,y_train)\n",
    "            sum_train += algo_model.score(x_train,y_train)\n",
    "            y_pred = algo_model.predict(x_test)\n",
    "            sum_test += accuracy_score(y_test,y_pred)\n",
    "        average_test = sum_test/i\n",
    "        average_train = sum_train/i\n",
    "        test_scores[i] = average_test\n",
    "        train_scores[i] = average_train\n",
    "        print(\"kvalue: \",i)\n",
    "    return(train_scores,test_scores)   \n"
   ]
  },
  {
   "cell_type": "code",
   "execution_count": 24,
   "id": "ffaafcdb",
   "metadata": {},
   "outputs": [],
   "source": [
    "from sklearn.ensemble import GradientBoostingClassifier\n",
    "gbm = GradientBoostingClassifier()\n",
    "nb = MultinomialNB()\n",
    "from sklearn.linear_model import LogisticRegression\n",
    "log = LogisticRegression()\n",
    "from sklearn.tree import DecisionTreeClassifier\n",
    "dt = DecisionTreeClassifier(criterion='entropy',)\n",
    "from sklearn.ensemble import RandomForestClassifier\n",
    "ran = RandomForestClassifier(n_estimators = 10)\n"
   ]
  },
  {
   "cell_type": "code",
   "execution_count": 25,
   "id": "2627f783",
   "metadata": {},
   "outputs": [],
   "source": [
    "algo_dict = {'l_o_g':log,'d_t':dt,'r_a_n':ran,'N_B' : nb}\n",
    "algo_train_scores={}\n",
    "algo_test_scores={}\n"
   ]
  },
  {
   "cell_type": "code",
   "execution_count": 26,
   "id": "94ff3800",
   "metadata": {},
   "outputs": [
    {
     "name": "stdout",
     "output_type": "stream",
     "text": [
      "l_o_g\n",
      "kvalue:  2\n",
      "kvalue:  4\n",
      "kvalue:  6\n",
      "kvalue:  8\n",
      "kvalue:  10\n",
      "d_t\n",
      "kvalue:  2\n",
      "kvalue:  4\n",
      "kvalue:  6\n",
      "kvalue:  8\n",
      "kvalue:  10\n",
      "r_a_n\n",
      "kvalue:  2\n",
      "kvalue:  4\n",
      "kvalue:  6\n",
      "kvalue:  8\n",
      "kvalue:  10\n",
      "N_B\n",
      "kvalue:  2\n",
      "kvalue:  4\n",
      "kvalue:  6\n",
      "kvalue:  8\n",
      "kvalue:  10\n",
      "{'l_o_g': {2: 1.0, 4: 1.0, 6: 1.0, 8: 1.0, 10: 1.0}, 'd_t': {2: 1.0, 4: 1.0, 6: 1.0, 8: 1.0, 10: 1.0}, 'r_a_n': {2: 1.0, 4: 1.0, 6: 1.0, 8: 1.0, 10: 1.0}, 'N_B': {2: 1.0, 4: 1.0, 6: 1.0, 8: 1.0, 10: 1.0}}\n",
      "{'l_o_g': {2: 1.0, 4: 1.0, 6: 1.0, 8: 1.0, 10: 1.0}, 'd_t': {2: 0.8792682926829268, 4: 1.0, 6: 1.0, 8: 1.0, 10: 1.0}, 'r_a_n': {2: 0.9975609756097561, 4: 1.0, 6: 1.0, 8: 1.0, 10: 1.0}, 'N_B': {2: 1.0, 4: 1.0, 6: 1.0, 8: 1.0, 10: 1.0}}\n"
     ]
    }
   ],
   "source": [
    "max_kfold = 11\n",
    "for algo_name in algo_dict.keys():\n",
    "    print(algo_name)\n",
    "    tr_score,tst_score = evaluate(df,max_kfold,algo_dict[algo_name])\n",
    "    algo_train_scores[algo_name] = tr_score\n",
    "    algo_test_scores[algo_name] = tst_score\n",
    "print(algo_train_scores)\n",
    "print(algo_test_scores)\n"
   ]
  },
  {
   "cell_type": "code",
   "execution_count": 29,
   "id": "f15448bb",
   "metadata": {},
   "outputs": [],
   "source": [
    "df_test = pd.DataFrame(algo_test_scores)\n",
    "df_train = pd.DataFrame(algo_train_scores)\n"
   ]
  },
  {
   "cell_type": "code",
   "execution_count": 31,
   "id": "24c56444",
   "metadata": {},
   "outputs": [
    {
     "data": {
      "text/plain": [
       "['trained_model']"
      ]
     },
     "execution_count": 31,
     "metadata": {},
     "output_type": "execute_result"
    }
   ],
   "source": [
    "import joblib\n",
    "joblib.dump(dt,'trained_model')\n"
   ]
  }
 ],
 "metadata": {
  "kernelspec": {
   "display_name": "Python 3 (ipykernel)",
   "language": "python",
   "name": "python3"
  },
  "language_info": {
   "codemirror_mode": {
    "name": "ipython",
    "version": 3
   },
   "file_extension": ".py",
   "mimetype": "text/x-python",
   "name": "python",
   "nbconvert_exporter": "python",
   "pygments_lexer": "ipython3",
   "version": "3.9.12"
  }
 },
 "nbformat": 4,
 "nbformat_minor": 5
}
